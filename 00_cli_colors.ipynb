{
 "cells": [
  {
   "cell_type": "code",
   "execution_count": null,
   "metadata": {},
   "outputs": [],
   "source": [
    "# default_exp cli_colors"
   ]
  },
  {
   "cell_type": "markdown",
   "metadata": {},
   "source": [
    "# Docker CLI Colors\n",
    "\n",
    "> Provides a colorful CLI for basic Docker commands"
   ]
  },
  {
   "cell_type": "code",
   "execution_count": null,
   "metadata": {},
   "outputs": [],
   "source": [
    "#hide\n",
    "from nbverbose.showdoc import *"
   ]
  },
  {
   "cell_type": "code",
   "execution_count": null,
   "metadata": {},
   "outputs": [],
   "source": [
    "#export\n",
    "from rich import print as rprint\n",
    "from rich.console import Console\n",
    "from fastcore.script import call_parse, Param, store_true"
   ]
  },
  {
   "cell_type": "code",
   "execution_count": null,
   "metadata": {},
   "outputs": [],
   "source": [
    "#export\n",
    "console = Console()"
   ]
  },
  {
   "cell_type": "code",
   "execution_count": null,
   "metadata": {},
   "outputs": [],
   "source": [
    "#export\n",
    "def _run(cmd): \n",
    "    out = subprocess.run(cmd, capture_output=True, text=True)\n",
    "    return out.stdout"
   ]
  },
  {
   "cell_type": "markdown",
   "metadata": {},
   "source": [
    "## Rich\n",
    "\n",
    "[Rich](https://github.com/willmcgugan/rich) is a library designed to enahnce the printing of python applications, such as below:"
   ]
  },
  {
   "cell_type": "code",
   "execution_count": null,
   "metadata": {},
   "outputs": [
    {
     "data": {
      "text/html": [
       "<pre style=\"white-space:pre;overflow-x:auto;line-height:normal;font-family:Menlo,'DejaVu Sans Mono',consolas,'Courier New',monospace\">Hello, <span style=\"color: #800080; text-decoration-color: #800080; font-weight: bold\">World</span>! 🧛 TestMe\n",
       "</pre>\n"
      ],
      "text/plain": [
       "Hello, \u001b[1;35mWorld\u001b[0m! 🧛 TestMe\n"
      ]
     },
     "metadata": {},
     "output_type": "display_data"
    }
   ],
   "source": [
    "rprint(\"Hello, [bold magenta]World[/bold magenta]!\", \":vampire:\", \"TestMe\")"
   ]
  },
  {
   "cell_type": "markdown",
   "metadata": {},
   "source": [
    "We will use it to take very basic-looking `docker` commands, and Rich-ify them to look better"
   ]
  },
  {
   "cell_type": "markdown",
   "metadata": {},
   "source": [
    "## Docker\n",
    "\n",
    "These are the docker commands currently supported, based on personal preference of use:\n",
    "\n",
    "- `docker search`\n",
    "- `docker pull`\n",
    "- `docker run`\n",
    "- `docker container ls`"
   ]
  },
  {
   "cell_type": "code",
   "execution_count": null,
   "metadata": {},
   "outputs": [],
   "source": [
    "#export\n",
    "import subprocess\n",
    "import json"
   ]
  },
  {
   "cell_type": "code",
   "execution_count": null,
   "metadata": {},
   "outputs": [],
   "source": [
    "#hide\n",
    "# This is an example output from `docker search fastai --format \"{{json . }}\"\n",
    "o = '''\"{\"Description\":\"Fast.ai course 2 [Pytorch]\",\"IsAutomated\":\"false\",\"IsOfficial\":\"false\",\"Name\":\"paperspace/fastai\",\"StarCount\":\"20\"}\"\n",
    "\"{\"Description\":\"\",\"IsAutomated\":\"false\",\"IsOfficial\":\"false\",\"Name\":\"spellrun/fastai\",\"StarCount\":\"7\"}\"\n",
    "\"{\"Description\":\"GPU-enabled Jupyter environment for fast.ai …\",\"IsAutomated\":\"true\",\"IsOfficial\":\"false\",\"Name\":\"deeprig/fastai-course-1\",\"StarCount\":\"6\"}\"\n",
    "\"{\"Description\":\"Official fast.ai image for fastai\",\"IsAutomated\":\"false\",\"IsOfficial\":\"false\",\"Name\":\"fastdotai/fastai\",\"StarCount\":\"6\"}\"\n",
    "\"{\"Description\":\"This container has moved to https://hub.dock…\",\"IsAutomated\":\"false\",\"IsOfficial\":\"false\",\"Name\":\"zerotosingularity/fastai2\",\"StarCount\":\"2\"}\"\n",
    "\"{\"Description\":\"A Docker container for fastai v2\",\"IsAutomated\":\"false\",\"IsOfficial\":\"false\",\"Name\":\"seemeai/fastai2\",\"StarCount\":\"2\"}\"\n",
    "\"{\"Description\":\"This container has moved to https://hub.dock…\",\"IsAutomated\":\"false\",\"IsOfficial\":\"false\",\"Name\":\"zerotosingularity/fastai\",\"StarCount\":\"2\"}\"\n",
    "\"{\"Description\":\"A Docker container for fastai\",\"IsAutomated\":\"false\",\"IsOfficial\":\"false\",\"Name\":\"seemeai/fastai\",\"StarCount\":\"1\"}\"\n",
    "\"{\"Description\":\"\",\"IsAutomated\":\"false\",\"IsOfficial\":\"false\",\"Name\":\"fastai/fastai\",\"StarCount\":\"1\"}\"\n",
    "\"{\"Description\":\"\",\"IsAutomated\":\"false\",\"IsOfficial\":\"false\",\"Name\":\"gwelican/fastai\",\"StarCount\":\"1\"}\"\n",
    "\"{\"Description\":\"\",\"IsAutomated\":\"false\",\"IsOfficial\":\"false\",\"Name\":\"fastai/codespaces\",\"StarCount\":\"1\"}\"\n",
    "\"{\"Description\":\"\",\"IsAutomated\":\"false\",\"IsOfficial\":\"false\",\"Name\":\"fastdotai/fastai-course\",\"StarCount\":\"0\"}\"\n",
    "\"{\"Description\":\"\",\"IsAutomated\":\"false\",\"IsOfficial\":\"false\",\"Name\":\"spellrun/fastai-base\",\"StarCount\":\"0\"}\"\n",
    "\"{\"Description\":\"\",\"IsAutomated\":\"false\",\"IsOfficial\":\"false\",\"Name\":\"fastai/ubuntu\",\"StarCount\":\"0\"}\"\n",
    "\"{\"Description\":\"container for fastai code\",\"IsAutomated\":\"false\",\"IsOfficial\":\"false\",\"Name\":\"sgrestdocker/fastai\",\"StarCount\":\"0\"}\"\n",
    "\"{\"Description\":\"\",\"IsAutomated\":\"false\",\"IsOfficial\":\"false\",\"Name\":\"fastai/fastpages-jekyll\",\"StarCount\":\"0\"}\"\n",
    "\"{\"Description\":\"Official fast.ai image for fastai with an ed…\",\"IsAutomated\":\"false\",\"IsOfficial\":\"false\",\"Name\":\"fastdotai/fastai-dev\",\"StarCount\":\"0\"}\"\n",
    "\"{\"Description\":\"\",\"IsAutomated\":\"false\",\"IsOfficial\":\"false\",\"Name\":\"aychang/fastai-gpu\",\"StarCount\":\"0\"}\"\n",
    "\"{\"Description\":\"Fastai2, FastApi, Pytorch 1.7,  Pipenv, Cond…\",\"IsAutomated\":\"false\",\"IsOfficial\":\"false\",\"Name\":\"lifefilm/fastai2_fastapi\",\"StarCount\":\"0\"}\"\n",
    "\"{\"Description\":\"\",\"IsAutomated\":\"false\",\"IsOfficial\":\"false\",\"Name\":\"fastai/jekyll\",\"StarCount\":\"0\"}\"\n",
    "\"{\"Description\":\"\",\"IsAutomated\":\"false\",\"IsOfficial\":\"false\",\"Name\":\"kuberlab/fastai\",\"StarCount\":\"0\"}\"\n",
    "\"{\"Description\":\"\",\"IsAutomated\":\"false\",\"IsOfficial\":\"false\",\"Name\":\"krllerof/fastai\",\"StarCount\":\"0\"}\"\n",
    "\"{\"Description\":\"\",\"IsAutomated\":\"false\",\"IsOfficial\":\"false\",\"Name\":\"grapenf/fastaindex\",\"StarCount\":\"0\"}\"\n",
    "\"{\"Description\":\"fastai\",\"IsAutomated\":\"false\",\"IsOfficial\":\"false\",\"Name\":\"qooba/fastai\",\"StarCount\":\"0\"}\"\n",
    "\"{\"Description\":\"Fast AI container\",\"IsAutomated\":\"false\",\"IsOfficial\":\"false\",\"Name\":\"snarkai/fastai\",\"StarCount\":\"0\"}\"'''"
   ]
  },
  {
   "cell_type": "code",
   "execution_count": null,
   "metadata": {},
   "outputs": [],
   "source": [
    "#export\n",
    "from rich.table import Table"
   ]
  },
  {
   "cell_type": "code",
   "execution_count": null,
   "metadata": {},
   "outputs": [],
   "source": [
    "#export\n",
    "def _format_name(name):\n",
    "    \"Formats the container name to be colorized and colorblind-friendly\"\n",
    "    if '/' in name:\n",
    "        full_name = name.split('/')\n",
    "    if len(full_name) == 2:\n",
    "        org = f'[#FFC20A]{full_name[0]}'\n",
    "        name = f'[#0C7BDC]{full_name[1]}'\n",
    "        name = f'{org}[white]/{name}'\n",
    "    return name"
   ]
  },
  {
   "cell_type": "code",
   "execution_count": null,
   "metadata": {},
   "outputs": [],
   "source": [
    "#export\n",
    "def create_docker_search_table(data, **args):\n",
    "    \"Returns a `Table` from a docker search query\"\n",
    "    def _get_data(item):\n",
    "        \"Parses json and returns a list\"\n",
    "        return [\n",
    "            item['Name'],\n",
    "            item['Description'],\n",
    "            item['StarCount'],\n",
    "            item['IsOfficial'],\n",
    "            item['IsAutomated']\n",
    "        ]\n",
    "    table = Table(show_header=True, header_style=\"bold #0C7BDC\", show_lines=True, **args) # Change to blue\n",
    "    table.add_column(\"Container Name\", justify=\"left\")\n",
    "    table.add_column(\"Description\", justify=\"left\")\n",
    "    table.add_column(\"Stars\", justify=\"left\")\n",
    "    table.add_column(\"Official\", justify=\"left\")\n",
    "    table.add_column(\"Automated\", justify=\"left\")\n",
    "    split_data = data.split('\\n')\n",
    "    parsed_data = [json.loads(a[1:-1]) for a in split_data if len(a) > 0]\n",
    "    for point in parsed_data:\n",
    "        point['Name'] = _format_name(point['Name'])\n",
    "        if point['IsAutomated'] == 'true':\n",
    "            point['IsAutomated'] = \"[green]:heavy_check_mark:\"\n",
    "        else:\n",
    "            point['IsAutomated'] = ''\n",
    "        if point['IsOfficial'] == 'true':\n",
    "            point['IsOfficial'] = \"[green]:heavy_check_mark:\"\n",
    "        else:\n",
    "            point['IsOfficial'] = ''\n",
    "        table.add_row(*_get_data(point))\n",
    "    return table"
   ]
  },
  {
   "cell_type": "markdown",
   "metadata": {},
   "source": [
    "Below you can see an example of a \"docker_buddy\" `docker search` result, utilizing Rich to improve the readability:"
   ]
  },
  {
   "cell_type": "code",
   "execution_count": null,
   "metadata": {},
   "outputs": [
    {
     "data": {
      "text/html": [
       "<pre style=\"white-space:pre;overflow-x:auto;line-height:normal;font-family:Menlo,'DejaVu Sans Mono',consolas,'Courier New',monospace\">┏━━━━━━━━━━━━━━━━━━━━━━━━━━━┳━━━━━━━━━━━━━━━━━━━━━━━━━━━━━━━━┳━━━━━━━┳━━━━━━━━━━┳━━━━━━━━━━━┓\n",
       "┃<span style=\"color: #0c7bdc; text-decoration-color: #0c7bdc; font-weight: bold\"> Container Name            </span>┃<span style=\"color: #0c7bdc; text-decoration-color: #0c7bdc; font-weight: bold\"> Description                    </span>┃<span style=\"color: #0c7bdc; text-decoration-color: #0c7bdc; font-weight: bold\"> Stars </span>┃<span style=\"color: #0c7bdc; text-decoration-color: #0c7bdc; font-weight: bold\"> Official </span>┃<span style=\"color: #0c7bdc; text-decoration-color: #0c7bdc; font-weight: bold\"> Automated </span>┃\n",
       "┡━━━━━━━━━━━━━━━━━━━━━━━━━━━╇━━━━━━━━━━━━━━━━━━━━━━━━━━━━━━━━╇━━━━━━━╇━━━━━━━━━━╇━━━━━━━━━━━┩\n",
       "│ <span style=\"color: #ffc20a; text-decoration-color: #ffc20a\">paperspace</span><span style=\"color: #c0c0c0; text-decoration-color: #c0c0c0\">/</span><span style=\"color: #0c7bdc; text-decoration-color: #0c7bdc\">fastai</span>         │ Fast.ai course 2 [Pytorch]     │ 20    │          │           │\n",
       "├───────────────────────────┼────────────────────────────────┼───────┼──────────┼───────────┤\n",
       "│ <span style=\"color: #ffc20a; text-decoration-color: #ffc20a\">spellrun</span><span style=\"color: #c0c0c0; text-decoration-color: #c0c0c0\">/</span><span style=\"color: #0c7bdc; text-decoration-color: #0c7bdc\">fastai</span>           │                                │ 7     │          │           │\n",
       "├───────────────────────────┼────────────────────────────────┼───────┼──────────┼───────────┤\n",
       "│ <span style=\"color: #ffc20a; text-decoration-color: #ffc20a\">deeprig</span><span style=\"color: #c0c0c0; text-decoration-color: #c0c0c0\">/</span><span style=\"color: #0c7bdc; text-decoration-color: #0c7bdc\">fastai-course-1</span>   │ GPU-enabled Jupyter            │ 6     │          │ <span style=\"color: #008000; text-decoration-color: #008000\">✔</span>         │\n",
       "│                           │ environment for fast.ai …      │       │          │           │\n",
       "├───────────────────────────┼────────────────────────────────┼───────┼──────────┼───────────┤\n",
       "│ <span style=\"color: #ffc20a; text-decoration-color: #ffc20a\">fastdotai</span><span style=\"color: #c0c0c0; text-decoration-color: #c0c0c0\">/</span><span style=\"color: #0c7bdc; text-decoration-color: #0c7bdc\">fastai</span>          │ Official fast.ai image for     │ 6     │          │           │\n",
       "│                           │ fastai                         │       │          │           │\n",
       "├───────────────────────────┼────────────────────────────────┼───────┼──────────┼───────────┤\n",
       "│ <span style=\"color: #ffc20a; text-decoration-color: #ffc20a\">zerotosingularity</span><span style=\"color: #c0c0c0; text-decoration-color: #c0c0c0\">/</span><span style=\"color: #0c7bdc; text-decoration-color: #0c7bdc\">fastai2</span> │ This container has moved to    │ 2     │          │           │\n",
       "│                           │ https://hub.dock…              │       │          │           │\n",
       "├───────────────────────────┼────────────────────────────────┼───────┼──────────┼───────────┤\n",
       "│ <span style=\"color: #ffc20a; text-decoration-color: #ffc20a\">seemeai</span><span style=\"color: #c0c0c0; text-decoration-color: #c0c0c0\">/</span><span style=\"color: #0c7bdc; text-decoration-color: #0c7bdc\">fastai2</span>           │ A Docker container for fastai  │ 2     │          │           │\n",
       "│                           │ v2                             │       │          │           │\n",
       "├───────────────────────────┼────────────────────────────────┼───────┼──────────┼───────────┤\n",
       "│ <span style=\"color: #ffc20a; text-decoration-color: #ffc20a\">zerotosingularity</span><span style=\"color: #c0c0c0; text-decoration-color: #c0c0c0\">/</span><span style=\"color: #0c7bdc; text-decoration-color: #0c7bdc\">fastai</span>  │ This container has moved to    │ 2     │          │           │\n",
       "│                           │ https://hub.dock…              │       │          │           │\n",
       "├───────────────────────────┼────────────────────────────────┼───────┼──────────┼───────────┤\n",
       "│ <span style=\"color: #ffc20a; text-decoration-color: #ffc20a\">seemeai</span><span style=\"color: #c0c0c0; text-decoration-color: #c0c0c0\">/</span><span style=\"color: #0c7bdc; text-decoration-color: #0c7bdc\">fastai</span>            │ A Docker container for fastai  │ 1     │          │           │\n",
       "├───────────────────────────┼────────────────────────────────┼───────┼──────────┼───────────┤\n",
       "│ <span style=\"color: #ffc20a; text-decoration-color: #ffc20a\">fastai</span><span style=\"color: #c0c0c0; text-decoration-color: #c0c0c0\">/</span><span style=\"color: #0c7bdc; text-decoration-color: #0c7bdc\">fastai</span>             │                                │ 1     │          │           │\n",
       "├───────────────────────────┼────────────────────────────────┼───────┼──────────┼───────────┤\n",
       "│ <span style=\"color: #ffc20a; text-decoration-color: #ffc20a\">gwelican</span><span style=\"color: #c0c0c0; text-decoration-color: #c0c0c0\">/</span><span style=\"color: #0c7bdc; text-decoration-color: #0c7bdc\">fastai</span>           │                                │ 1     │          │           │\n",
       "├───────────────────────────┼────────────────────────────────┼───────┼──────────┼───────────┤\n",
       "│ <span style=\"color: #ffc20a; text-decoration-color: #ffc20a\">fastai</span><span style=\"color: #c0c0c0; text-decoration-color: #c0c0c0\">/</span><span style=\"color: #0c7bdc; text-decoration-color: #0c7bdc\">codespaces</span>         │                                │ 1     │          │           │\n",
       "├───────────────────────────┼────────────────────────────────┼───────┼──────────┼───────────┤\n",
       "│ <span style=\"color: #ffc20a; text-decoration-color: #ffc20a\">fastdotai</span><span style=\"color: #c0c0c0; text-decoration-color: #c0c0c0\">/</span><span style=\"color: #0c7bdc; text-decoration-color: #0c7bdc\">fastai-course</span>   │                                │ 0     │          │           │\n",
       "├───────────────────────────┼────────────────────────────────┼───────┼──────────┼───────────┤\n",
       "│ <span style=\"color: #ffc20a; text-decoration-color: #ffc20a\">spellrun</span><span style=\"color: #c0c0c0; text-decoration-color: #c0c0c0\">/</span><span style=\"color: #0c7bdc; text-decoration-color: #0c7bdc\">fastai-base</span>      │                                │ 0     │          │           │\n",
       "├───────────────────────────┼────────────────────────────────┼───────┼──────────┼───────────┤\n",
       "│ <span style=\"color: #ffc20a; text-decoration-color: #ffc20a\">fastai</span><span style=\"color: #c0c0c0; text-decoration-color: #c0c0c0\">/</span><span style=\"color: #0c7bdc; text-decoration-color: #0c7bdc\">ubuntu</span>             │                                │ 0     │          │           │\n",
       "├───────────────────────────┼────────────────────────────────┼───────┼──────────┼───────────┤\n",
       "│ <span style=\"color: #ffc20a; text-decoration-color: #ffc20a\">sgrestdocker</span><span style=\"color: #c0c0c0; text-decoration-color: #c0c0c0\">/</span><span style=\"color: #0c7bdc; text-decoration-color: #0c7bdc\">fastai</span>       │ container for fastai code      │ 0     │          │           │\n",
       "├───────────────────────────┼────────────────────────────────┼───────┼──────────┼───────────┤\n",
       "│ <span style=\"color: #ffc20a; text-decoration-color: #ffc20a\">fastai</span><span style=\"color: #c0c0c0; text-decoration-color: #c0c0c0\">/</span><span style=\"color: #0c7bdc; text-decoration-color: #0c7bdc\">fastpages-jekyll</span>   │                                │ 0     │          │           │\n",
       "├───────────────────────────┼────────────────────────────────┼───────┼──────────┼───────────┤\n",
       "│ <span style=\"color: #ffc20a; text-decoration-color: #ffc20a\">fastdotai</span><span style=\"color: #c0c0c0; text-decoration-color: #c0c0c0\">/</span><span style=\"color: #0c7bdc; text-decoration-color: #0c7bdc\">fastai-dev</span>      │ Official fast.ai image for     │ 0     │          │           │\n",
       "│                           │ fastai with an ed…             │       │          │           │\n",
       "├───────────────────────────┼────────────────────────────────┼───────┼──────────┼───────────┤\n",
       "│ <span style=\"color: #ffc20a; text-decoration-color: #ffc20a\">aychang</span><span style=\"color: #c0c0c0; text-decoration-color: #c0c0c0\">/</span><span style=\"color: #0c7bdc; text-decoration-color: #0c7bdc\">fastai-gpu</span>        │                                │ 0     │          │           │\n",
       "├───────────────────────────┼────────────────────────────────┼───────┼──────────┼───────────┤\n",
       "│ <span style=\"color: #ffc20a; text-decoration-color: #ffc20a\">lifefilm</span><span style=\"color: #c0c0c0; text-decoration-color: #c0c0c0\">/</span><span style=\"color: #0c7bdc; text-decoration-color: #0c7bdc\">fastai2_fastapi</span>  │ Fastai2, FastApi, Pytorch 1.7, │ 0     │          │           │\n",
       "│                           │ Pipenv, Cond…                  │       │          │           │\n",
       "├───────────────────────────┼────────────────────────────────┼───────┼──────────┼───────────┤\n",
       "│ <span style=\"color: #ffc20a; text-decoration-color: #ffc20a\">fastai</span><span style=\"color: #c0c0c0; text-decoration-color: #c0c0c0\">/</span><span style=\"color: #0c7bdc; text-decoration-color: #0c7bdc\">jekyll</span>             │                                │ 0     │          │           │\n",
       "├───────────────────────────┼────────────────────────────────┼───────┼──────────┼───────────┤\n",
       "│ <span style=\"color: #ffc20a; text-decoration-color: #ffc20a\">kuberlab</span><span style=\"color: #c0c0c0; text-decoration-color: #c0c0c0\">/</span><span style=\"color: #0c7bdc; text-decoration-color: #0c7bdc\">fastai</span>           │                                │ 0     │          │           │\n",
       "├───────────────────────────┼────────────────────────────────┼───────┼──────────┼───────────┤\n",
       "│ <span style=\"color: #ffc20a; text-decoration-color: #ffc20a\">krllerof</span><span style=\"color: #c0c0c0; text-decoration-color: #c0c0c0\">/</span><span style=\"color: #0c7bdc; text-decoration-color: #0c7bdc\">fastai</span>           │                                │ 0     │          │           │\n",
       "├───────────────────────────┼────────────────────────────────┼───────┼──────────┼───────────┤\n",
       "│ <span style=\"color: #ffc20a; text-decoration-color: #ffc20a\">grapenf</span><span style=\"color: #c0c0c0; text-decoration-color: #c0c0c0\">/</span><span style=\"color: #0c7bdc; text-decoration-color: #0c7bdc\">fastaindex</span>        │                                │ 0     │          │           │\n",
       "├───────────────────────────┼────────────────────────────────┼───────┼──────────┼───────────┤\n",
       "│ <span style=\"color: #ffc20a; text-decoration-color: #ffc20a\">qooba</span><span style=\"color: #c0c0c0; text-decoration-color: #c0c0c0\">/</span><span style=\"color: #0c7bdc; text-decoration-color: #0c7bdc\">fastai</span>              │ fastai                         │ 0     │          │           │\n",
       "├───────────────────────────┼────────────────────────────────┼───────┼──────────┼───────────┤\n",
       "│ <span style=\"color: #ffc20a; text-decoration-color: #ffc20a\">snarkai</span><span style=\"color: #c0c0c0; text-decoration-color: #c0c0c0\">/</span><span style=\"color: #0c7bdc; text-decoration-color: #0c7bdc\">fastai</span>            │ Fast AI container              │ 0     │          │           │\n",
       "└───────────────────────────┴────────────────────────────────┴───────┴──────────┴───────────┘\n",
       "</pre>\n"
      ],
      "text/plain": [
       "┏━━━━━━━━━━━━━━━━━━━━━━━━━━━┳━━━━━━━━━━━━━━━━━━━━━━━━━━━━━━━━┳━━━━━━━┳━━━━━━━━━━┳━━━━━━━━━━━┓\n",
       "┃\u001b[1;38;2;12;123;220m \u001b[0m\u001b[1;38;2;12;123;220mContainer Name           \u001b[0m\u001b[1;38;2;12;123;220m \u001b[0m┃\u001b[1;38;2;12;123;220m \u001b[0m\u001b[1;38;2;12;123;220mDescription                   \u001b[0m\u001b[1;38;2;12;123;220m \u001b[0m┃\u001b[1;38;2;12;123;220m \u001b[0m\u001b[1;38;2;12;123;220mStars\u001b[0m\u001b[1;38;2;12;123;220m \u001b[0m┃\u001b[1;38;2;12;123;220m \u001b[0m\u001b[1;38;2;12;123;220mOfficial\u001b[0m\u001b[1;38;2;12;123;220m \u001b[0m┃\u001b[1;38;2;12;123;220m \u001b[0m\u001b[1;38;2;12;123;220mAutomated\u001b[0m\u001b[1;38;2;12;123;220m \u001b[0m┃\n",
       "┡━━━━━━━━━━━━━━━━━━━━━━━━━━━╇━━━━━━━━━━━━━━━━━━━━━━━━━━━━━━━━╇━━━━━━━╇━━━━━━━━━━╇━━━━━━━━━━━┩\n",
       "│ \u001b[38;2;255;194;10mpaperspace\u001b[0m\u001b[37m/\u001b[0m\u001b[38;2;12;123;220mfastai\u001b[0m         │ Fast.ai course 2 [Pytorch]     │ 20    │          │           │\n",
       "├───────────────────────────┼────────────────────────────────┼───────┼──────────┼───────────┤\n",
       "│ \u001b[38;2;255;194;10mspellrun\u001b[0m\u001b[37m/\u001b[0m\u001b[38;2;12;123;220mfastai\u001b[0m           │                                │ 7     │          │           │\n",
       "├───────────────────────────┼────────────────────────────────┼───────┼──────────┼───────────┤\n",
       "│ \u001b[38;2;255;194;10mdeeprig\u001b[0m\u001b[37m/\u001b[0m\u001b[38;2;12;123;220mfastai-course-1\u001b[0m   │ GPU-enabled Jupyter            │ 6     │          │ \u001b[32m✔\u001b[0m         │\n",
       "│                           │ environment for fast.ai …      │       │          │           │\n",
       "├───────────────────────────┼────────────────────────────────┼───────┼──────────┼───────────┤\n",
       "│ \u001b[38;2;255;194;10mfastdotai\u001b[0m\u001b[37m/\u001b[0m\u001b[38;2;12;123;220mfastai\u001b[0m          │ Official fast.ai image for     │ 6     │          │           │\n",
       "│                           │ fastai                         │       │          │           │\n",
       "├───────────────────────────┼────────────────────────────────┼───────┼──────────┼───────────┤\n",
       "│ \u001b[38;2;255;194;10mzerotosingularity\u001b[0m\u001b[37m/\u001b[0m\u001b[38;2;12;123;220mfastai2\u001b[0m │ This container has moved to    │ 2     │          │           │\n",
       "│                           │ https://hub.dock…              │       │          │           │\n",
       "├───────────────────────────┼────────────────────────────────┼───────┼──────────┼───────────┤\n",
       "│ \u001b[38;2;255;194;10mseemeai\u001b[0m\u001b[37m/\u001b[0m\u001b[38;2;12;123;220mfastai2\u001b[0m           │ A Docker container for fastai  │ 2     │          │           │\n",
       "│                           │ v2                             │       │          │           │\n",
       "├───────────────────────────┼────────────────────────────────┼───────┼──────────┼───────────┤\n",
       "│ \u001b[38;2;255;194;10mzerotosingularity\u001b[0m\u001b[37m/\u001b[0m\u001b[38;2;12;123;220mfastai\u001b[0m  │ This container has moved to    │ 2     │          │           │\n",
       "│                           │ https://hub.dock…              │       │          │           │\n",
       "├───────────────────────────┼────────────────────────────────┼───────┼──────────┼───────────┤\n",
       "│ \u001b[38;2;255;194;10mseemeai\u001b[0m\u001b[37m/\u001b[0m\u001b[38;2;12;123;220mfastai\u001b[0m            │ A Docker container for fastai  │ 1     │          │           │\n",
       "├───────────────────────────┼────────────────────────────────┼───────┼──────────┼───────────┤\n",
       "│ \u001b[38;2;255;194;10mfastai\u001b[0m\u001b[37m/\u001b[0m\u001b[38;2;12;123;220mfastai\u001b[0m             │                                │ 1     │          │           │\n",
       "├───────────────────────────┼────────────────────────────────┼───────┼──────────┼───────────┤\n",
       "│ \u001b[38;2;255;194;10mgwelican\u001b[0m\u001b[37m/\u001b[0m\u001b[38;2;12;123;220mfastai\u001b[0m           │                                │ 1     │          │           │\n",
       "├───────────────────────────┼────────────────────────────────┼───────┼──────────┼───────────┤\n",
       "│ \u001b[38;2;255;194;10mfastai\u001b[0m\u001b[37m/\u001b[0m\u001b[38;2;12;123;220mcodespaces\u001b[0m         │                                │ 1     │          │           │\n",
       "├───────────────────────────┼────────────────────────────────┼───────┼──────────┼───────────┤\n",
       "│ \u001b[38;2;255;194;10mfastdotai\u001b[0m\u001b[37m/\u001b[0m\u001b[38;2;12;123;220mfastai-course\u001b[0m   │                                │ 0     │          │           │\n",
       "├───────────────────────────┼────────────────────────────────┼───────┼──────────┼───────────┤\n",
       "│ \u001b[38;2;255;194;10mspellrun\u001b[0m\u001b[37m/\u001b[0m\u001b[38;2;12;123;220mfastai-base\u001b[0m      │                                │ 0     │          │           │\n",
       "├───────────────────────────┼────────────────────────────────┼───────┼──────────┼───────────┤\n",
       "│ \u001b[38;2;255;194;10mfastai\u001b[0m\u001b[37m/\u001b[0m\u001b[38;2;12;123;220mubuntu\u001b[0m             │                                │ 0     │          │           │\n",
       "├───────────────────────────┼────────────────────────────────┼───────┼──────────┼───────────┤\n",
       "│ \u001b[38;2;255;194;10msgrestdocker\u001b[0m\u001b[37m/\u001b[0m\u001b[38;2;12;123;220mfastai\u001b[0m       │ container for fastai code      │ 0     │          │           │\n",
       "├───────────────────────────┼────────────────────────────────┼───────┼──────────┼───────────┤\n",
       "│ \u001b[38;2;255;194;10mfastai\u001b[0m\u001b[37m/\u001b[0m\u001b[38;2;12;123;220mfastpages-jekyll\u001b[0m   │                                │ 0     │          │           │\n",
       "├───────────────────────────┼────────────────────────────────┼───────┼──────────┼───────────┤\n",
       "│ \u001b[38;2;255;194;10mfastdotai\u001b[0m\u001b[37m/\u001b[0m\u001b[38;2;12;123;220mfastai-dev\u001b[0m      │ Official fast.ai image for     │ 0     │          │           │\n",
       "│                           │ fastai with an ed…             │       │          │           │\n",
       "├───────────────────────────┼────────────────────────────────┼───────┼──────────┼───────────┤\n",
       "│ \u001b[38;2;255;194;10maychang\u001b[0m\u001b[37m/\u001b[0m\u001b[38;2;12;123;220mfastai-gpu\u001b[0m        │                                │ 0     │          │           │\n",
       "├───────────────────────────┼────────────────────────────────┼───────┼──────────┼───────────┤\n",
       "│ \u001b[38;2;255;194;10mlifefilm\u001b[0m\u001b[37m/\u001b[0m\u001b[38;2;12;123;220mfastai2_fastapi\u001b[0m  │ Fastai2, FastApi, Pytorch 1.7, │ 0     │          │           │\n",
       "│                           │ Pipenv, Cond…                  │       │          │           │\n",
       "├───────────────────────────┼────────────────────────────────┼───────┼──────────┼───────────┤\n",
       "│ \u001b[38;2;255;194;10mfastai\u001b[0m\u001b[37m/\u001b[0m\u001b[38;2;12;123;220mjekyll\u001b[0m             │                                │ 0     │          │           │\n",
       "├───────────────────────────┼────────────────────────────────┼───────┼──────────┼───────────┤\n",
       "│ \u001b[38;2;255;194;10mkuberlab\u001b[0m\u001b[37m/\u001b[0m\u001b[38;2;12;123;220mfastai\u001b[0m           │                                │ 0     │          │           │\n",
       "├───────────────────────────┼────────────────────────────────┼───────┼──────────┼───────────┤\n",
       "│ \u001b[38;2;255;194;10mkrllerof\u001b[0m\u001b[37m/\u001b[0m\u001b[38;2;12;123;220mfastai\u001b[0m           │                                │ 0     │          │           │\n",
       "├───────────────────────────┼────────────────────────────────┼───────┼──────────┼───────────┤\n",
       "│ \u001b[38;2;255;194;10mgrapenf\u001b[0m\u001b[37m/\u001b[0m\u001b[38;2;12;123;220mfastaindex\u001b[0m        │                                │ 0     │          │           │\n",
       "├───────────────────────────┼────────────────────────────────┼───────┼──────────┼───────────┤\n",
       "│ \u001b[38;2;255;194;10mqooba\u001b[0m\u001b[37m/\u001b[0m\u001b[38;2;12;123;220mfastai\u001b[0m              │ fastai                         │ 0     │          │           │\n",
       "├───────────────────────────┼────────────────────────────────┼───────┼──────────┼───────────┤\n",
       "│ \u001b[38;2;255;194;10msnarkai\u001b[0m\u001b[37m/\u001b[0m\u001b[38;2;12;123;220mfastai\u001b[0m            │ Fast AI container              │ 0     │          │           │\n",
       "└───────────────────────────┴────────────────────────────────┴───────┴──────────┴───────────┘\n"
      ]
     },
     "execution_count": null,
     "metadata": {},
     "output_type": "execute_result"
    }
   ],
   "source": [
    "#hide_input\n",
    "create_docker_search_table(o)"
   ]
  },
  {
   "cell_type": "code",
   "execution_count": null,
   "metadata": {},
   "outputs": [],
   "source": [
    "#export\n",
    "@call_parse\n",
    "def docker_search(\n",
    "    TERM:Param(\"The name of a Docker image or namespace to search for\", str),\n",
    "    FILTER:Param(\"Filter output based on conditions provided\", str)='',\n",
    "    LIMIT:Param(\"Max number of search results (default 25)\", int, default=25)=25,\n",
    "    NO_TRUNC:Param(\"Don't truncate output\", store_true)=False\n",
    "):\n",
    "    \"Search the Docker Hub for images\"\n",
    "    cmd = ['docker','search']\n",
    "    if len(FILTER) > 0:\n",
    "        cmd += ['--filter', FILTER]\n",
    "    if NO_TRUNC != False:\n",
    "        cmd += ['--no-trunc']\n",
    "    cmd += ['--limit', str(LIMIT)]\n",
    "    cmd += [TERM, '--format', '\"{{json . }}\"']\n",
    "    res = _run(cmd)\n",
    "    table = create_docker_search_table(res)\n",
    "    console.print(table)"
   ]
  },
  {
   "cell_type": "code",
   "execution_count": null,
   "metadata": {},
   "outputs": [],
   "source": [
    "#hide\n",
    "# Output from docker ps --format \"{{json . }}\" --no-trunc\n",
    "o = '\"{\"Command\":\"\\\\\"/usr/local/bin/repo2docker-entrypoint jupyter notebook --ip 0.0.0.0\\\\\"\",\"CreatedAt\":\"2021-12-05 12:01:31 -0500 EST\",\"ID\":\"8ad1963d5ef736bfe321f0ac08bf7f906ee327c0d9402849e23dcfc476695f3a\",\"Image\":\"fastdotai/nbdev\",\"Labels\":\"repo2docker.ref=None,repo2docker.repo=local,repo2docker.version=2021.08.0\",\"LocalVolumes\":\"0\",\"Mounts\":\"/home/zach/docker_images/docker_buddy\",\"Names\":\"nostalgic_golick\",\"Networks\":\"bridge\",\"Ports\":\"0.0.0.0:8888-\\\\u003e8888/tcp, :::8888-\\\\u003e8888/tcp\",\"RunningFor\":\"2 hours ago\",\"Size\":\"5.64MB (virtual 1.6GB)\",\"State\":\"running\",\"Status\":\"Up 2 hours\"}\"\\n'"
   ]
  },
  {
   "cell_type": "code",
   "execution_count": null,
   "metadata": {},
   "outputs": [],
   "source": [
    "#export\n",
    "def _format_ports(port_string:str):\n",
    "    \"Color codes port forwarding\"\n",
    "    _incoming = '#FFC20A'\n",
    "    _outgoing = '#0C7BDC'\n",
    "    ports = port_string.split()\n",
    "    first_port = ports[0].split(':')\n",
    "    gateways = first_port[1].strip(',')\n",
    "    gateways = gateways.split('->')\n",
    "    gateways[0] = f'[{_incoming}]{gateways[0]}[/{_incoming}]'\n",
    "    gateways[1] = f'[{_outgoing}]{gateways[1]}[/{_outgoing}]'\n",
    "    first_port = first_port[0]+':'+'->'.join(gateways)\n",
    "    \n",
    "    second_port = ports[1].split(':::')[1]\n",
    "    gateways = second_port.split('->')\n",
    "    gateways[0] = f'[{_incoming}]{gateways[0]}[/{_incoming}]'\n",
    "    gateways[1] = f'[{_outgoing}]{gateways[1]}[/{_outgoing}]'\n",
    "    second_port = '::'+':'+'->'.join(gateways)\n",
    "    return f'{first_port}, {second_port}'"
   ]
  },
  {
   "cell_type": "code",
   "execution_count": null,
   "metadata": {},
   "outputs": [],
   "source": [
    "#export\n",
    "def create_docker_ls_table(data, **args):\n",
    "    \"Returns a `Table` from a docker search query\"\n",
    "    def _get_data(item):\n",
    "        \"Parses json and returns a list\"\n",
    "        return [\n",
    "            item['Names'],\n",
    "            item['Image'],\n",
    "            item['Status'],\n",
    "            item['Ports']\n",
    "        ]\n",
    "    table = Table(show_header=True, header_style=\"bold #0C7BDC\", show_lines=True, **args) # Change to blue\n",
    "    table.add_column(\"Container Nickname\", justify=\"left\")\n",
    "    table.add_column(\"Image\", justify=\"left\")\n",
    "    table.add_column(\"Current Status\", justify=\"left\")\n",
    "    table.add_column(\"Ports\", justify=\"left\")\n",
    "    split_data = data.split('\\n')\n",
    "    parsed_data = [json.loads(a[1:-1]) for a in split_data if len(a) > 0]\n",
    "    for point in parsed_data:\n",
    "        point['Image'] = _format_name(point['Image'])\n",
    "        if point['State'] == 'running':\n",
    "            point['Status'] = f\"[green]{point['Status']}[/green]\"\n",
    "        else:\n",
    "            point['Status'] = f\"[red]{point['Status']}[/red]\"\n",
    "        point['Ports'] = _format_ports(point['Ports'])\n",
    "        del point['State']\n",
    "        table.add_row(*_get_data(point))\n",
    "    return table"
   ]
  },
  {
   "cell_type": "markdown",
   "metadata": {},
   "source": [
    "Below you can see an example of our supercharged `docker ls` output:"
   ]
  },
  {
   "cell_type": "code",
   "execution_count": null,
   "metadata": {},
   "outputs": [
    {
     "data": {
      "text/html": [
       "<pre style=\"white-space:pre;overflow-x:auto;line-height:normal;font-family:Menlo,'DejaVu Sans Mono',consolas,'Courier New',monospace\">┏━━━━━━━━━━━━━━━━━━━━┳━━━━━━━━━━━━━━━━━┳━━━━━━━━━━━━━━━━┳━━━━━━━━━━━━━━━━━━━━━━━━━━━━━━━━━━━┓\n",
       "┃<span style=\"color: #0c7bdc; text-decoration-color: #0c7bdc; font-weight: bold\"> Container Nickname </span>┃<span style=\"color: #0c7bdc; text-decoration-color: #0c7bdc; font-weight: bold\"> Image           </span>┃<span style=\"color: #0c7bdc; text-decoration-color: #0c7bdc; font-weight: bold\"> Current Status </span>┃<span style=\"color: #0c7bdc; text-decoration-color: #0c7bdc; font-weight: bold\"> Ports                             </span>┃\n",
       "┡━━━━━━━━━━━━━━━━━━━━╇━━━━━━━━━━━━━━━━━╇━━━━━━━━━━━━━━━━╇━━━━━━━━━━━━━━━━━━━━━━━━━━━━━━━━━━━┩\n",
       "│ nostalgic_golick   │ <span style=\"color: #ffc20a; text-decoration-color: #ffc20a\">fastdotai</span><span style=\"color: #c0c0c0; text-decoration-color: #c0c0c0\">/</span><span style=\"color: #0c7bdc; text-decoration-color: #0c7bdc\">nbdev</span> │ <span style=\"color: #008000; text-decoration-color: #008000\">Up 2 hours</span>     │ 0.0.0.0:<span style=\"color: #ffc20a; text-decoration-color: #ffc20a\">8888</span>-&gt;<span style=\"color: #0c7bdc; text-decoration-color: #0c7bdc\">8888/tcp</span>,           │\n",
       "│                    │                 │                │ :::<span style=\"color: #ffc20a; text-decoration-color: #ffc20a\">8888</span>-&gt;<span style=\"color: #0c7bdc; text-decoration-color: #0c7bdc\">8888/tcp</span>                 │\n",
       "└────────────────────┴─────────────────┴────────────────┴───────────────────────────────────┘\n",
       "</pre>\n"
      ],
      "text/plain": [
       "┏━━━━━━━━━━━━━━━━━━━━┳━━━━━━━━━━━━━━━━━┳━━━━━━━━━━━━━━━━┳━━━━━━━━━━━━━━━━━━━━━━━━━━━━━━━━━━━┓\n",
       "┃\u001b[1;38;2;12;123;220m \u001b[0m\u001b[1;38;2;12;123;220mContainer Nickname\u001b[0m\u001b[1;38;2;12;123;220m \u001b[0m┃\u001b[1;38;2;12;123;220m \u001b[0m\u001b[1;38;2;12;123;220mImage          \u001b[0m\u001b[1;38;2;12;123;220m \u001b[0m┃\u001b[1;38;2;12;123;220m \u001b[0m\u001b[1;38;2;12;123;220mCurrent Status\u001b[0m\u001b[1;38;2;12;123;220m \u001b[0m┃\u001b[1;38;2;12;123;220m \u001b[0m\u001b[1;38;2;12;123;220mPorts                            \u001b[0m\u001b[1;38;2;12;123;220m \u001b[0m┃\n",
       "┡━━━━━━━━━━━━━━━━━━━━╇━━━━━━━━━━━━━━━━━╇━━━━━━━━━━━━━━━━╇━━━━━━━━━━━━━━━━━━━━━━━━━━━━━━━━━━━┩\n",
       "│ nostalgic_golick   │ \u001b[38;2;255;194;10mfastdotai\u001b[0m\u001b[37m/\u001b[0m\u001b[38;2;12;123;220mnbdev\u001b[0m │ \u001b[32mUp 2 hours\u001b[0m     │ 0.0.0.0:\u001b[38;2;255;194;10m8888\u001b[0m->\u001b[38;2;12;123;220m8888/tcp\u001b[0m,           │\n",
       "│                    │                 │                │ :::\u001b[38;2;255;194;10m8888\u001b[0m->\u001b[38;2;12;123;220m8888/tcp\u001b[0m                 │\n",
       "└────────────────────┴─────────────────┴────────────────┴───────────────────────────────────┘\n"
      ]
     },
     "execution_count": null,
     "metadata": {},
     "output_type": "execute_result"
    }
   ],
   "source": [
    "#hide_input\n",
    "create_docker_ls_table(o)"
   ]
  },
  {
   "cell_type": "code",
   "execution_count": null,
   "metadata": {},
   "outputs": [],
   "source": [
    "#export\n",
    "@call_parse\n",
    "def docker_container_ls():\n",
    "    \"List containers\"\n",
    "    cmd = ['docker','ps','--format','\"{{json . }}\"','--no-trunc']\n",
    "    res = _run(cmd)\n",
    "    table = create_docker_ls_table(res)\n",
    "    console.print(table)"
   ]
  },
  {
   "cell_type": "markdown",
   "metadata": {},
   "source": [
    "## Bash Commands\n",
    "Each of the prior functionalities have bash commands associated with them as follows:\n",
    "- `ds` -> `docker search` (or `docker_search`)\n",
    "- `dls` -> `docker container ls` (or `docker_container_ls`)\n",
    "\n",
    "This also helps with not overriding root Docker\n",
    "\n",
    "Along with these, it is recommended to setup the following shortcuts in your `bash_profile`:\n",
    "- `docker run` -> `dr`\n",
    "- `docker pull` -> `dp`\n",
    "\n",
    "So the naming conventions can remain similar (though there are no pretty tables/console bits for them)"
   ]
  },
  {
   "cell_type": "code",
   "execution_count": null,
   "metadata": {},
   "outputs": [],
   "source": []
  }
 ],
 "metadata": {
  "kernelspec": {
   "display_name": "Python 3",
   "language": "python",
   "name": "python3"
  }
 },
 "nbformat": 4,
 "nbformat_minor": 2
}
