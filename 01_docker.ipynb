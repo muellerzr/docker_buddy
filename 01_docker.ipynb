{
 "cells": [
  {
   "cell_type": "code",
   "execution_count": null,
   "id": "2ab25b14",
   "metadata": {},
   "outputs": [],
   "source": [
    "#default_exp docker_startup"
   ]
  },
  {
   "cell_type": "markdown",
   "id": "7c323ba0",
   "metadata": {},
   "source": [
    "# Docker Helpers\n",
    "\n",
    "> An intuitive CLI to help ease your Docker setup"
   ]
  },
  {
   "cell_type": "code",
   "execution_count": null,
   "id": "60b763e1",
   "metadata": {},
   "outputs": [],
   "source": [
    "#export\n"
   ]
  }
 ],
 "metadata": {
  "kernelspec": {
   "display_name": "Python 3",
   "language": "python",
   "name": "python3"
  }
 },
 "nbformat": 4,
 "nbformat_minor": 5
}
