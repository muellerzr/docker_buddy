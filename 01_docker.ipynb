{
 "cells": [
  {
   "cell_type": "code",
   "execution_count": null,
   "id": "2ab25b14",
   "metadata": {},
   "outputs": [],
   "source": [
    "#default_exp docker_startup"
   ]
  },
  {
   "cell_type": "markdown",
   "id": "7c323ba0",
   "metadata": {},
   "source": [
    "# Docker Helpers\n",
    "\n",
    "> An intuitive CLI to help ease your Docker setup"
   ]
  },
  {
   "cell_type": "markdown",
   "id": "dd2a5f05",
   "metadata": {},
   "source": [
    "## What are these helpers?\n",
    "\n",
    "These include helpers for you to understand your docker images quickly and efficiently."
   ]
  },
  {
   "cell_type": "code",
   "execution_count": null,
   "id": "74c6d1b4",
   "metadata": {},
   "outputs": [],
   "source": [
    "#hide\n",
    "base = \"\"\"nbdev\n",
    "\n",
    "docker run --expose 8888/tcp -l repo2docker.ref='None' -l repo2docker.repo='local' -l repo2docker.version='2021.08.0' -e 'PATH=/home/runner/.local/bin:/home/runner/.local/bin:/srv/conda/envs/notebook/bin:/srv/conda/bin:/srv/npm/bin:/usr/local/sbin:/usr/local/bin:/usr/sbin:/usr/bin:/sbin:/bin' -e 'DEBIAN_FRONTEND=noninteractive' -e 'LC_ALL=en_US.UTF-8' -e 'LANG=en_US.UTF-8' -e 'LANGUAGE=en_US.UTF-8' -e 'SHELL=/bin/bash' -e 'USER=runner' -e 'HOME=/home/runner' -e 'APP_BASE=/srv' -e 'NPM_DIR=/srv/npm' -e 'NPM_CONFIG_GLOBALCONFIG=/srv/npm/npmrc' -e 'CONDA_DIR=/srv/conda' -e 'NB_PYTHON_PREFIX=/srv/conda/envs/notebook' -e 'NB_ENVIRONMENT_FILE=/tmp/env/environment.lock' -e 'KERNEL_PYTHON_PREFIX=/srv/conda/envs/notebook' -e 'REPO_DIR=/home/runner' -e 'CONDA_DEFAULT_ENV=/srv/conda/envs/notebook' -e 'PYTHONUNBUFFERED=1' -d --entrypoint \"/usr/local/bin/repo2docker-entrypoint\" sha256:55047ce356e618ce8cc50f9de0cd28f0c1c808665464f738854b2c939dca2c5d 'jupyter' 'notebook' '--ip' '0.0.0.0'\"\"\""
   ]
  },
  {
   "cell_type": "code",
   "execution_count": null,
   "id": "543530ae",
   "metadata": {},
   "outputs": [],
   "source": [
    "#export\n",
    "from rich import print as rprint\n",
    "from rich.table import Table\n",
    "from docker_buddy.cli_colors import _run, console\n",
    "from fastcore.script import call_parse, Param"
   ]
  },
  {
   "cell_type": "code",
   "execution_count": null,
   "id": "619c1ccc",
   "metadata": {},
   "outputs": [],
   "source": [
    "#export\n",
    "def _parse_arguments(args:str):\n",
    "    \"Seperates out additional arguments for an image, and grabs their default values\"\n",
    "    sets = []\n",
    "    is_pair = False\n",
    "    curr_pair = []\n",
    "    for word in args:\n",
    "        if word.startswith('-'):\n",
    "            if is_pair:\n",
    "                curr_pair[0] += f', {word}'\n",
    "            else:\n",
    "                is_pair = True\n",
    "                curr_pair.append(word)\n",
    "            continue\n",
    "        elif is_pair:\n",
    "            curr_pair.append(word)\n",
    "            is_pair = False\n",
    "            sets.append(curr_pair)\n",
    "            curr_pair = []\n",
    "    return sets"
   ]
  },
  {
   "cell_type": "code",
   "execution_count": null,
   "id": "64293758",
   "metadata": {},
   "outputs": [],
   "source": [
    "#export\n",
    "def _format_inspection(inspection:str):\n",
    "    \"Formats prettily an inspection from rekcod for an image\"\n",
    "    _color_a, _color_b, _color_c = \"#0C7BDC\", \"#40B0A6\", \"#0C7BDC\"\n",
    "    image_name, _, command = inspection.split('\\n')\n",
    "    start_cmd = command.split('-')[0]\n",
    "    s = f'[bold {_color_a}]Image[/bold {_color_a}]: {image_name}\\n\\n[bold {_color_a}]Command for Running Container[/bold {_color_a}]: {start_cmd}\\n\\n'\n",
    "    s += f'[bold {_color_a}]Possible Arguments:[/bold {_color_a}]'\n",
    "    table = Table(show_header=True, header_style=f'bold {_color_a}', show_lines=True)\n",
    "    table.add_column('Argument(s)', justify=\"center\")\n",
    "    table.add_column('Value', justify='Center')\n",
    "    sets = _parse_arguments(command.split(' '))\n",
    "    for arg, val in sets:\n",
    "        if ',' in arg:\n",
    "            def _add_color(o): return f'[{_color_b}]{o}[/{_color_b}]'\n",
    "            arg = ','.join([_add_color(o) for o in arg.split(',')])\n",
    "        else:\n",
    "            arg = f'[{_color_b}]{arg}[/{_color_b}]'\n",
    "        val = f'{val}'\n",
    "        table.add_row(arg, val)\n",
    "    return s,table"
   ]
  },
  {
   "cell_type": "code",
   "execution_count": null,
   "id": "a645e5af",
   "metadata": {},
   "outputs": [],
   "source": [
    "#export\n",
    "@call_parse\n",
    "def inspect_container(container_name:Param(\"The name of a downloaded DockerHub container\", str)):\n",
    "    \"Reports all possible configuration values for a container\"\n",
    "    cmd = ['rekcod', container_name]\n",
    "    res = _run(cmd)\n",
    "    image_and_cmd, arguments = _format_inspection(res)\n",
    "    console.print(image_and_cmd)\n",
    "    console.print(arguments)"
   ]
  },
  {
   "cell_type": "markdown",
   "id": "4706a709",
   "metadata": {},
   "source": [
    "With this function, we can quickly see what all possible parameters we can setup for a docker container. This also has the shortcut of `di` (shorthand for Docker Investigate, how I envision this in my head).\n",
    "\n",
    "We can see an example output below:\n",
    "\n",
    "> **NOTE**: These do not include inherit arguments for general docker, such as `-v` to mount volumes, and so forth. For an exhaustive list of those, see the documentation [here](https://docs.docker.com/engine/reference/commandline/run/)"
   ]
  },
  {
   "cell_type": "code",
   "execution_count": null,
   "id": "2d2c4437",
   "metadata": {},
   "outputs": [
    {
     "data": {
      "text/html": [
       "<pre style=\"white-space:pre;overflow-x:auto;line-height:normal;font-family:Menlo,'DejaVu Sans Mono',consolas,'Courier New',monospace\"><span style=\"color: #0c7bdc; text-decoration-color: #0c7bdc; font-weight: bold\">Image</span>: nbdev\n",
       "\n",
       "<span style=\"color: #0c7bdc; text-decoration-color: #0c7bdc; font-weight: bold\">Command for Running Container</span>: docker run \n",
       "\n",
       "<span style=\"color: #0c7bdc; text-decoration-color: #0c7bdc; font-weight: bold\">Possible Arguments:</span>\n",
       "</pre>\n"
      ],
      "text/plain": [
       "\u001b[1;38;2;12;123;220mImage\u001b[0m: nbdev\n",
       "\n",
       "\u001b[1;38;2;12;123;220mCommand for Running Container\u001b[0m: docker run \n",
       "\n",
       "\u001b[1;38;2;12;123;220mPossible Arguments:\u001b[0m\n"
      ]
     },
     "metadata": {},
     "output_type": "display_data"
    },
    {
     "data": {
      "text/html": [
       "<pre style=\"white-space:pre;overflow-x:auto;line-height:normal;font-family:Menlo,'DejaVu Sans Mono',consolas,'Courier New',monospace\">┏━━━━━━━━━━━━━━━━━━┳━━━━━━━━━━━━━━━━━━━━━━━━━━━━━━━━━━━━━━━━━━━━━━━━━━━━━━━━━━━━━━━━━━━━━━━━┓\n",
       "┃<span style=\"color: #0c7bdc; text-decoration-color: #0c7bdc; font-weight: bold\">   Argument(s)    </span>┃<span style=\"color: #0c7bdc; text-decoration-color: #0c7bdc; font-weight: bold\"> Value                                                                  </span>┃\n",
       "┡━━━━━━━━━━━━━━━━━━╇━━━━━━━━━━━━━━━━━━━━━━━━━━━━━━━━━━━━━━━━━━━━━━━━━━━━━━━━━━━━━━━━━━━━━━━━┩\n",
       "│     <span style=\"color: #40b0a6; text-decoration-color: #40b0a6\">--expose</span>     │ 8888/tcp                                                               │\n",
       "├──────────────────┼────────────────────────────────────────────────────────────────────────┤\n",
       "│        <span style=\"color: #40b0a6; text-decoration-color: #40b0a6\">-l</span>        │ repo2docker.ref='None'                                                 │\n",
       "├──────────────────┼────────────────────────────────────────────────────────────────────────┤\n",
       "│        <span style=\"color: #40b0a6; text-decoration-color: #40b0a6\">-l</span>        │ repo2docker.repo='local'                                               │\n",
       "├──────────────────┼────────────────────────────────────────────────────────────────────────┤\n",
       "│        <span style=\"color: #40b0a6; text-decoration-color: #40b0a6\">-l</span>        │ repo2docker.version='2021.08.0'                                        │\n",
       "├──────────────────┼────────────────────────────────────────────────────────────────────────┤\n",
       "│        <span style=\"color: #40b0a6; text-decoration-color: #40b0a6\">-e</span>        │ 'PATH=/home/runner/.local/bin:/home/runner/.local/bin:/srv/conda/envs… │\n",
       "├──────────────────┼────────────────────────────────────────────────────────────────────────┤\n",
       "│        <span style=\"color: #40b0a6; text-decoration-color: #40b0a6\">-e</span>        │ 'DEBIAN_FRONTEND=noninteractive'                                       │\n",
       "├──────────────────┼────────────────────────────────────────────────────────────────────────┤\n",
       "│        <span style=\"color: #40b0a6; text-decoration-color: #40b0a6\">-e</span>        │ 'LC_ALL=en_US.UTF-8'                                                   │\n",
       "├──────────────────┼────────────────────────────────────────────────────────────────────────┤\n",
       "│        <span style=\"color: #40b0a6; text-decoration-color: #40b0a6\">-e</span>        │ 'LANG=en_US.UTF-8'                                                     │\n",
       "├──────────────────┼────────────────────────────────────────────────────────────────────────┤\n",
       "│        <span style=\"color: #40b0a6; text-decoration-color: #40b0a6\">-e</span>        │ 'LANGUAGE=en_US.UTF-8'                                                 │\n",
       "├──────────────────┼────────────────────────────────────────────────────────────────────────┤\n",
       "│        <span style=\"color: #40b0a6; text-decoration-color: #40b0a6\">-e</span>        │ 'SHELL=/bin/bash'                                                      │\n",
       "├──────────────────┼────────────────────────────────────────────────────────────────────────┤\n",
       "│        <span style=\"color: #40b0a6; text-decoration-color: #40b0a6\">-e</span>        │ 'USER=runner'                                                          │\n",
       "├──────────────────┼────────────────────────────────────────────────────────────────────────┤\n",
       "│        <span style=\"color: #40b0a6; text-decoration-color: #40b0a6\">-e</span>        │ 'HOME=/home/runner'                                                    │\n",
       "├──────────────────┼────────────────────────────────────────────────────────────────────────┤\n",
       "│        <span style=\"color: #40b0a6; text-decoration-color: #40b0a6\">-e</span>        │ 'APP_BASE=/srv'                                                        │\n",
       "├──────────────────┼────────────────────────────────────────────────────────────────────────┤\n",
       "│        <span style=\"color: #40b0a6; text-decoration-color: #40b0a6\">-e</span>        │ 'NPM_DIR=/srv/npm'                                                     │\n",
       "├──────────────────┼────────────────────────────────────────────────────────────────────────┤\n",
       "│        <span style=\"color: #40b0a6; text-decoration-color: #40b0a6\">-e</span>        │ 'NPM_CONFIG_GLOBALCONFIG=/srv/npm/npmrc'                               │\n",
       "├──────────────────┼────────────────────────────────────────────────────────────────────────┤\n",
       "│        <span style=\"color: #40b0a6; text-decoration-color: #40b0a6\">-e</span>        │ 'CONDA_DIR=/srv/conda'                                                 │\n",
       "├──────────────────┼────────────────────────────────────────────────────────────────────────┤\n",
       "│        <span style=\"color: #40b0a6; text-decoration-color: #40b0a6\">-e</span>        │ 'NB_PYTHON_PREFIX=/srv/conda/envs/notebook'                            │\n",
       "├──────────────────┼────────────────────────────────────────────────────────────────────────┤\n",
       "│        <span style=\"color: #40b0a6; text-decoration-color: #40b0a6\">-e</span>        │ 'NB_ENVIRONMENT_FILE=/tmp/env/environment.lock'                        │\n",
       "├──────────────────┼────────────────────────────────────────────────────────────────────────┤\n",
       "│        <span style=\"color: #40b0a6; text-decoration-color: #40b0a6\">-e</span>        │ 'KERNEL_PYTHON_PREFIX=/srv/conda/envs/notebook'                        │\n",
       "├──────────────────┼────────────────────────────────────────────────────────────────────────┤\n",
       "│        <span style=\"color: #40b0a6; text-decoration-color: #40b0a6\">-e</span>        │ 'REPO_DIR=/home/runner'                                                │\n",
       "├──────────────────┼────────────────────────────────────────────────────────────────────────┤\n",
       "│        <span style=\"color: #40b0a6; text-decoration-color: #40b0a6\">-e</span>        │ 'CONDA_DEFAULT_ENV=/srv/conda/envs/notebook'                           │\n",
       "├──────────────────┼────────────────────────────────────────────────────────────────────────┤\n",
       "│        <span style=\"color: #40b0a6; text-decoration-color: #40b0a6\">-e</span>        │ 'PYTHONUNBUFFERED=1'                                                   │\n",
       "├──────────────────┼────────────────────────────────────────────────────────────────────────┤\n",
       "│ <span style=\"color: #40b0a6; text-decoration-color: #40b0a6\">-d</span>,<span style=\"color: #40b0a6; text-decoration-color: #40b0a6\"> --entrypoint</span> │ \"/usr/local/bin/repo2docker-entrypoint\"                                │\n",
       "└──────────────────┴────────────────────────────────────────────────────────────────────────┘\n",
       "</pre>\n"
      ],
      "text/plain": [
       "┏━━━━━━━━━━━━━━━━━━┳━━━━━━━━━━━━━━━━━━━━━━━━━━━━━━━━━━━━━━━━━━━━━━━━━━━━━━━━━━━━━━━━━━━━━━━━┓\n",
       "┃\u001b[1;38;2;12;123;220m \u001b[0m\u001b[1;38;2;12;123;220m  Argument(s)   \u001b[0m\u001b[1;38;2;12;123;220m \u001b[0m┃\u001b[1;38;2;12;123;220m \u001b[0m\u001b[1;38;2;12;123;220mValue\u001b[0m\u001b[1;38;2;12;123;220m                                                                 \u001b[0m\u001b[1;38;2;12;123;220m \u001b[0m┃\n",
       "┡━━━━━━━━━━━━━━━━━━╇━━━━━━━━━━━━━━━━━━━━━━━━━━━━━━━━━━━━━━━━━━━━━━━━━━━━━━━━━━━━━━━━━━━━━━━━┩\n",
       "│     \u001b[38;2;64;176;166m--expose\u001b[0m     │ 8888/tcp                                                               │\n",
       "├──────────────────┼────────────────────────────────────────────────────────────────────────┤\n",
       "│        \u001b[38;2;64;176;166m-l\u001b[0m        │ repo2docker.ref='None'                                                 │\n",
       "├──────────────────┼────────────────────────────────────────────────────────────────────────┤\n",
       "│        \u001b[38;2;64;176;166m-l\u001b[0m        │ repo2docker.repo='local'                                               │\n",
       "├──────────────────┼────────────────────────────────────────────────────────────────────────┤\n",
       "│        \u001b[38;2;64;176;166m-l\u001b[0m        │ repo2docker.version='2021.08.0'                                        │\n",
       "├──────────────────┼────────────────────────────────────────────────────────────────────────┤\n",
       "│        \u001b[38;2;64;176;166m-e\u001b[0m        │ 'PATH=/home/runner/.local/bin:/home/runner/.local/bin:/srv/conda/envs… │\n",
       "├──────────────────┼────────────────────────────────────────────────────────────────────────┤\n",
       "│        \u001b[38;2;64;176;166m-e\u001b[0m        │ 'DEBIAN_FRONTEND=noninteractive'                                       │\n",
       "├──────────────────┼────────────────────────────────────────────────────────────────────────┤\n",
       "│        \u001b[38;2;64;176;166m-e\u001b[0m        │ 'LC_ALL=en_US.UTF-8'                                                   │\n",
       "├──────────────────┼────────────────────────────────────────────────────────────────────────┤\n",
       "│        \u001b[38;2;64;176;166m-e\u001b[0m        │ 'LANG=en_US.UTF-8'                                                     │\n",
       "├──────────────────┼────────────────────────────────────────────────────────────────────────┤\n",
       "│        \u001b[38;2;64;176;166m-e\u001b[0m        │ 'LANGUAGE=en_US.UTF-8'                                                 │\n",
       "├──────────────────┼────────────────────────────────────────────────────────────────────────┤\n",
       "│        \u001b[38;2;64;176;166m-e\u001b[0m        │ 'SHELL=/bin/bash'                                                      │\n",
       "├──────────────────┼────────────────────────────────────────────────────────────────────────┤\n",
       "│        \u001b[38;2;64;176;166m-e\u001b[0m        │ 'USER=runner'                                                          │\n",
       "├──────────────────┼────────────────────────────────────────────────────────────────────────┤\n",
       "│        \u001b[38;2;64;176;166m-e\u001b[0m        │ 'HOME=/home/runner'                                                    │\n",
       "├──────────────────┼────────────────────────────────────────────────────────────────────────┤\n",
       "│        \u001b[38;2;64;176;166m-e\u001b[0m        │ 'APP_BASE=/srv'                                                        │\n",
       "├──────────────────┼────────────────────────────────────────────────────────────────────────┤\n",
       "│        \u001b[38;2;64;176;166m-e\u001b[0m        │ 'NPM_DIR=/srv/npm'                                                     │\n",
       "├──────────────────┼────────────────────────────────────────────────────────────────────────┤\n",
       "│        \u001b[38;2;64;176;166m-e\u001b[0m        │ 'NPM_CONFIG_GLOBALCONFIG=/srv/npm/npmrc'                               │\n",
       "├──────────────────┼────────────────────────────────────────────────────────────────────────┤\n",
       "│        \u001b[38;2;64;176;166m-e\u001b[0m        │ 'CONDA_DIR=/srv/conda'                                                 │\n",
       "├──────────────────┼────────────────────────────────────────────────────────────────────────┤\n",
       "│        \u001b[38;2;64;176;166m-e\u001b[0m        │ 'NB_PYTHON_PREFIX=/srv/conda/envs/notebook'                            │\n",
       "├──────────────────┼────────────────────────────────────────────────────────────────────────┤\n",
       "│        \u001b[38;2;64;176;166m-e\u001b[0m        │ 'NB_ENVIRONMENT_FILE=/tmp/env/environment.lock'                        │\n",
       "├──────────────────┼────────────────────────────────────────────────────────────────────────┤\n",
       "│        \u001b[38;2;64;176;166m-e\u001b[0m        │ 'KERNEL_PYTHON_PREFIX=/srv/conda/envs/notebook'                        │\n",
       "├──────────────────┼────────────────────────────────────────────────────────────────────────┤\n",
       "│        \u001b[38;2;64;176;166m-e\u001b[0m        │ 'REPO_DIR=/home/runner'                                                │\n",
       "├──────────────────┼────────────────────────────────────────────────────────────────────────┤\n",
       "│        \u001b[38;2;64;176;166m-e\u001b[0m        │ 'CONDA_DEFAULT_ENV=/srv/conda/envs/notebook'                           │\n",
       "├──────────────────┼────────────────────────────────────────────────────────────────────────┤\n",
       "│        \u001b[38;2;64;176;166m-e\u001b[0m        │ 'PYTHONUNBUFFERED=1'                                                   │\n",
       "├──────────────────┼────────────────────────────────────────────────────────────────────────┤\n",
       "│ \u001b[38;2;64;176;166m-d\u001b[0m,\u001b[38;2;64;176;166m --entrypoint\u001b[0m │ \"/usr/local/bin/repo2docker-entrypoint\"                                │\n",
       "└──────────────────┴────────────────────────────────────────────────────────────────────────┘\n"
      ]
     },
     "metadata": {},
     "output_type": "display_data"
    }
   ],
   "source": [
    "#hide_input\n",
    "img,arg = _format_inspection(base)\n",
    "console.print(img)\n",
    "console.print(arg)"
   ]
  },
  {
   "cell_type": "code",
   "execution_count": null,
   "id": "a009f763",
   "metadata": {},
   "outputs": [],
   "source": []
  }
 ],
 "metadata": {
  "kernelspec": {
   "display_name": "Python 3",
   "language": "python",
   "name": "python3"
  }
 },
 "nbformat": 4,
 "nbformat_minor": 5
}
